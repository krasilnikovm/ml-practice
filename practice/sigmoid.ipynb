{
 "cells": [
  {
   "cell_type": "code",
   "execution_count": 1,
   "metadata": {},
   "outputs": [],
   "source": [
    "import numpy as np"
   ]
  },
  {
   "cell_type": "code",
   "execution_count": 2,
   "metadata": {},
   "outputs": [],
   "source": [
    "class LogisticRegression:\n",
    "    \n",
    "    def __init__(self, w, b = 0,max_epoch = 50, learning_rate=0.01):\n",
    "        self.max_epoch = max_epoch\n",
    "        self.learning_rate = learning_rate\n",
    "        self.w = w\n",
    "        self.b = b\n",
    "    \n",
    "    def fit(self, X, y):\n",
    "        n,m = X.shape\n",
    "        epoch = 0\n",
    "        \n",
    "        while (epoch < self.max_epoch):\n",
    "            z = self.calculate_net_input(X)\n",
    "            s = self.sigmoid(z)\n",
    "            j = self.calculate_coast(y, s)\n",
    "            print(j)\n",
    "            delta_w = (-X.T.dot(y-s)) * (-self.learning_rate)\n",
    "            delta_b = (-(y - s).sum()) * (-self.learning_rate)\n",
    "            self.w = self.w + delta_w\n",
    "            self.b = self.b + delta_b \n",
    "            epoch += 1\n",
    "        \n",
    "    def predict(self, X, y):\n",
    "        z = self.calculate_net_input(X)\n",
    "        s = self.sigmoid(z)\n",
    "        return np.where(s >= 0.5, 1, 0)\n",
    "    \n",
    "    def calculate_net_input(self, X):\n",
    "        return X.dot(self.w) + self.b\n",
    "    \n",
    "    def calculate_coast(self, y, s):\n",
    "        return -(y * np.log(s) + (1 - y) * np.log(1 - s)).sum()\n",
    "    \n",
    "    def sigmoid(self, z):\n",
    "        return 1 / ( 1 + np.exp(-z))"
   ]
  },
  {
   "cell_type": "code",
   "execution_count": 7,
   "metadata": {},
   "outputs": [
    {
     "name": "stdout",
     "output_type": "stream",
     "text": [
      "11.127068114794014\n",
      "10.474255408382641\n",
      "9.843612717968627\n",
      "9.223390682514633\n",
      "8.609034718438457\n",
      "7.998414488673972\n",
      "7.390446831712651\n",
      "6.784615453665851\n",
      "6.180814571955041\n",
      "5.57936230301459\n",
      "4.9811596751431395\n",
      "4.388032563298848\n",
      "3.8033314578214523\n",
      "3.23285714780977\n",
      "2.6860278432376345\n",
      "2.1767070030903346\n",
      "1.7222264032439887\n",
      "1.3388830581111528\n",
      "1.0348649713600662\n",
      "0.8061138871182523\n",
      "0.6393342430805428\n",
      "0.518725707014754\n",
      "0.43070613319183887\n",
      "0.36526989006329397\n",
      "0.3155400406209957\n",
      "0.2768982757887524\n",
      "0.2462401061194965\n",
      "0.22145189538369073\n",
      "0.20106865689515285\n",
      "0.1840549257203963\n",
      "0.16966438921405647\n",
      "0.15734899861264912\n",
      "0.1466992021948458\n",
      "0.137403956098717\n",
      "0.12922348940095998\n"
     ]
    }
   ],
   "source": [
    "X = np.array([[4, 3],[6, 2],[1, -2]])\n",
    "y = np.array([[0], [0], [1]])\n",
    "W = np.array([[-2],[3]])\n",
    "b = -3\n",
    "max_epoch = 35\n",
    "learning_rate = 0.1\n",
    "log_reg = LogisticRegression(W, b, max_epoch, learning_rate)\n",
    "log_reg.fit(X, y)"
   ]
  },
  {
   "cell_type": "code",
   "execution_count": 8,
   "metadata": {},
   "outputs": [],
   "source": [
    "predicted = log_reg.predict(X,y)"
   ]
  },
  {
   "cell_type": "code",
   "execution_count": 9,
   "metadata": {},
   "outputs": [
    {
     "data": {
      "text/plain": [
       "array([[0],\n",
       "       [0],\n",
       "       [1]])"
      ]
     },
     "execution_count": 9,
     "metadata": {},
     "output_type": "execute_result"
    }
   ],
   "source": [
    "predicted"
   ]
  },
  {
   "cell_type": "code",
   "execution_count": 10,
   "metadata": {},
   "outputs": [
    {
     "data": {
      "text/plain": [
       "array([[0],\n",
       "       [0],\n",
       "       [1]])"
      ]
     },
     "execution_count": 10,
     "metadata": {},
     "output_type": "execute_result"
    }
   ],
   "source": [
    "y"
   ]
  },
  {
   "cell_type": "code",
   "execution_count": null,
   "metadata": {},
   "outputs": [],
   "source": []
  }
 ],
 "metadata": {
  "kernelspec": {
   "display_name": "Python 3.7.4 32-bit",
   "language": "python",
   "name": "python37432bit0a3c01453a4a44cf949642935bc660bc"
  },
  "language_info": {
   "codemirror_mode": {
    "name": "ipython",
    "version": 3
   },
   "file_extension": ".py",
   "mimetype": "text/x-python",
   "name": "python",
   "nbconvert_exporter": "python",
   "pygments_lexer": "ipython3",
   "version": "3.7.4"
  }
 },
 "nbformat": 4,
 "nbformat_minor": 2
}
