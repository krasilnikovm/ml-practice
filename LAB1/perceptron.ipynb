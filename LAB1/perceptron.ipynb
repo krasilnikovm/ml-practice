{
 "cells": [
  {
   "cell_type": "code",
   "execution_count": 1,
   "metadata": {},
   "outputs": [],
   "source": [
    "import pandas as pd"
   ]
  },
  {
   "cell_type": "code",
   "execution_count": 2,
   "metadata": {},
   "outputs": [],
   "source": [
    "data = pd.read_csv(\"iris.data\", names=[0, 1, 2, 3, 4]) "
   ]
  },
  {
   "cell_type": "markdown",
   "metadata": {},
   "source": [
    "Prepsrocessing stage\n",
    "\n",
    "* Remove Iris-virginica samples\n",
    "* Get 80% data Iris-versicolor and Iris-setosa for training\n",
    "* Get 20% data Iris-versicolor and Iris-setosa for model validation"
   ]
  },
  {
   "cell_type": "code",
   "execution_count": 3,
   "metadata": {},
   "outputs": [],
   "source": [
    "iris_versicolor_df = data[data[4] == 'Iris-versicolor'];\n",
    "iris_versicolor_training = iris_versicolor_df.head(int(len(iris_versicolor_df)*(0.8)))\n",
    "iris_versicolor_validation = iris_versicolor_df.tail(int(len(iris_versicolor_df)*(0.2)))\n",
    "\n",
    "iris_setosa_df = data[data[4] == 'Iris-setosa'];\n",
    "iris_setosa_training = iris_setosa_df.head(int(len(iris_setosa_df)*(0.8)))\n",
    "iris_setosa_validation = iris_setosa_df.tail(int(len(iris_setosa_df)*(0.2)))\n",
    "\n",
    "training_data = pd.concat([iris_setosa_training, iris_versicolor_training])\n",
    "validation_data = pd.concat([iris_setosa_validation, iris_versicolor_validation])"
   ]
  },
  {
   "cell_type": "markdown",
   "metadata": {},
   "source": [
    "Define required functions"
   ]
  },
  {
   "cell_type": "code",
   "execution_count": 4,
   "metadata": {},
   "outputs": [],
   "source": [
    "def calculate_net_input(w, x):\n",
    "    z = 0\n",
    "    length = len(w)\n",
    "    for i in range(length):\n",
    "        if i == length - 1:\n",
    "            z = z + w[i]\n",
    "        else:\n",
    "            z = z + w[i] * x[i]\n",
    "    return z\n",
    "\n",
    "def predict(z):\n",
    "    return 1 if z >= 0 else -1"
   ]
  },
  {
   "cell_type": "markdown",
   "metadata": {},
   "source": [
    "Model fitting stage\n",
    "\n",
    "note: last element of w will contain bias"
   ]
  },
  {
   "cell_type": "code",
   "execution_count": 5,
   "metadata": {},
   "outputs": [],
   "source": [
    "training_sample_count,variable_count = training_data.shape\n",
    "w = [0] * (variable_count)\n",
    "w_delta = w.copy()\n",
    "learning_rate = 0.1\n",
    "\n",
    "epoch = 0\n",
    "while epoch < 15:\n",
    "    w_prev = w.copy()\n",
    "    for index, row in training_data.iterrows():\n",
    "        z = calculate_net_input(w, row)\n",
    "        prediction = predict(z)\n",
    "        label = (1 if row[4] == 'Iris-setosa' else -1)\n",
    "        \n",
    "        for j in range(variable_count):\n",
    "            if j == (variable_count - 1):\n",
    "                w_delta[j] = learning_rate * (label - prediction)\n",
    "            else:\n",
    "                w_delta[j] = learning_rate * (label - prediction) * row[j]\n",
    "        \n",
    "        for k in range(variable_count):\n",
    "            w[k] += w_delta[k]\n",
    "    epoch += 1"
   ]
  },
  {
   "cell_type": "markdown",
   "metadata": {},
   "source": [
    "Model validation stage"
   ]
  },
  {
   "cell_type": "code",
   "execution_count": 6,
   "metadata": {},
   "outputs": [
    {
     "name": "stdout",
     "output_type": "stream",
     "text": [
      "Prediction is correct\n",
      "Prediction is correct\n",
      "Prediction is correct\n",
      "Prediction is correct\n",
      "Prediction is correct\n",
      "Prediction is correct\n",
      "Prediction is correct\n",
      "Prediction is correct\n",
      "Prediction is correct\n",
      "Prediction is correct\n",
      "Prediction is correct\n",
      "Prediction is correct\n",
      "Prediction is correct\n",
      "Prediction is correct\n",
      "Prediction is correct\n",
      "Prediction is correct\n",
      "Prediction is correct\n",
      "Prediction is correct\n",
      "Prediction is correct\n",
      "Prediction is correct\n"
     ]
    }
   ],
   "source": [
    "for index, row in validation_data.iterrows():\n",
    "    z = calculate_net_input(w, row)\n",
    "    prediction = predict(z)\n",
    "    label = (1 if row[4] == 'Iris-setosa' else -1)\n",
    "    if (prediction == label):\n",
    "        print('Prediction is correct')\n",
    "    else:\n",
    "        print('Prediction is not correct')"
   ]
  },
  {
   "cell_type": "code",
   "execution_count": null,
   "metadata": {},
   "outputs": [],
   "source": []
  }
 ],
 "metadata": {
  "kernelspec": {
   "display_name": "Python 3",
   "language": "python",
   "name": "python3"
  },
  "language_info": {
   "codemirror_mode": {
    "name": "ipython",
    "version": 3
   },
   "file_extension": ".py",
   "mimetype": "text/x-python",
   "name": "python",
   "nbconvert_exporter": "python",
   "pygments_lexer": "ipython3",
   "version": "3.7.4"
  }
 },
 "nbformat": 4,
 "nbformat_minor": 2
}
